{
 "metadata": {
  "name": ""
 },
 "nbformat": 3,
 "nbformat_minor": 0,
 "worksheets": [
  {
   "cells": [
    {
     "cell_type": "raw",
     "metadata": {},
     "source": [
      "Pipeline Anova SVM\n",
      "http://goo.gl/bMWB5x"
     ]
    },
    {
     "cell_type": "code",
     "collapsed": false,
     "input": [
      "# print(__doc__)\n",
      "\n",
      "from sklearn import svm\n",
      "from sklearn.datasets import samples_generator\n",
      "from sklearn.feature_selection import SelectKBest, f_regression, f_classif\n",
      "from sklearn.pipeline import Pipeline\n",
      "from sklearn.cross_validation import cross_val_score"
     ],
     "language": "python",
     "metadata": {},
     "outputs": [],
     "prompt_number": 12
    },
    {
     "cell_type": "code",
     "collapsed": false,
     "input": [
      "# Cria dados para a classificacao\n",
      "X, y = samples_generator.make_classification(\n",
      "    n_features=20, n_informative=3, n_redundant=0, n_classes=4,\n",
      "    n_clusters_per_class=2)\n",
      "\n",
      "print 'X shape: ',X.shape,'\\ny Shape: ',y.shape"
     ],
     "language": "python",
     "metadata": {},
     "outputs": [
      {
       "output_type": "stream",
       "stream": "stdout",
       "text": [
        "X shape:  (100, 20) \n",
        "y Shape:  (100,)\n"
       ]
      }
     ],
     "prompt_number": 13
    },
    {
     "cell_type": "code",
     "collapsed": false,
     "input": [
      "# ANOVA SVM-C\n",
      "# 1) anova filter, take 3 best ranked features\n",
      "anova_filter = SelectKBest(f_classif, k=3)\n",
      "\n",
      "f, p = f_classif(X,y)\n",
      "\n",
      "print f.shape\n",
      "print p.shape\n",
      "\n",
      "X_fit = anova_filter.fit_transform(X,y)\n",
      "\n",
      "print 'X.shape:\\n',X.shape\n",
      "print 'X_fit.shape:\\n',X_fit.shape\n",
      "\n",
      "###\n",
      "# Utilizada a classe SelectKBest (http://goo.gl/r48omy)  com os parametros:\n",
      "#    f_regression = Indicando que se trata de uma regress\u00e3o e n\u00e3o de uma classifica\u00e7\u00e3o\n",
      "#    k = 3 Indicando para selecionar apenas 3 'top' atributos (ou seria scores?) (s\u00f3 3???)\n"
     ],
     "language": "python",
     "metadata": {},
     "outputs": [
      {
       "output_type": "stream",
       "stream": "stdout",
       "text": [
        "(20,)\n",
        "(20,)\n",
        "X.shape:\n",
        "(100, 20)\n",
        "X_fit.shape:\n",
        "(100, 3)\n"
       ]
      }
     ],
     "prompt_number": 36
    },
    {
     "cell_type": "code",
     "collapsed": false,
     "input": [
      "####\n",
      "# Esta linha mostra os scores para cada atritubo, ou os melhores atributos?\n",
      "#print 'Anova Filter scores:\\n ',anova_filter.scores_\n",
      "#print '\\nShape do Anova Filter scores_: ',anova_filter.scores_.shape\n",
      "\n",
      "##\n",
      "# Abaixo um tab ap\u00f3s o ponto mostra os atributos do objeto (retire o sinal de comentario #)\n",
      "# print anova_filter."
     ],
     "language": "python",
     "metadata": {},
     "outputs": [],
     "prompt_number": 15
    },
    {
     "cell_type": "code",
     "collapsed": false,
     "input": [
      "# 2) svm (http://goo.gl/ugK2mW)\n",
      "clf = svm.SVC(kernel='linear')"
     ],
     "language": "python",
     "metadata": {},
     "outputs": [],
     "prompt_number": 16
    },
    {
     "cell_type": "raw",
     "metadata": {},
     "source": [
      "Sobre a pr\u00f3xima c\u00e9lula\n",
      "Pipeline de transforma\u00e7\u00f5es com um estimador final. \n",
      "Aplica sequenciamente uma lista de transforma\u00e7\u00f5es e um estimador de final.\n",
      "Passos interm\u00e9di\u00e1rios do pipeline devem ser \"transformadas\", ou seja, eles devem implementar metodos de ajuste e transforma\u00e7\u00e3o.\n",
      "O estimador final fica com a tarefa de fazer apenas o ajuste. \n",
      "O objetivo do pipeline \u00e9 montar v\u00e1rias etapas que podem ser 'cross-validadas' ao definir diferentes par\u00e2metros. \n",
      "Para isto, permite a defini\u00e7\u00e3o de par\u00e2metros para os v\u00e1rios passos utilizando os seus nomes e o nome do par\u00e2metro separados por\n",
      "um '__', como no exemplo a seguir: http://goo.gl/ouLbrs\n"
     ]
    },
    {
     "cell_type": "code",
     "collapsed": false,
     "input": [
      "anova_svm = Pipeline([('anova', anova_filter), ('svm', clf)])  # Diferente do link http://goo.gl/ouLbrs"
     ],
     "language": "python",
     "metadata": {},
     "outputs": [],
     "prompt_number": 17
    },
    {
     "cell_type": "code",
     "collapsed": false,
     "input": [
      "anova_svm.fit(X, y)\n",
      "#print ft.shape\n",
      "#print ft\n",
      "\n"
     ],
     "language": "python",
     "metadata": {},
     "outputs": [
      {
       "ename": "AttributeError",
       "evalue": "'SVC' object has no attribute 'transform'",
       "output_type": "pyerr",
       "traceback": [
        "\u001b[0;31m---------------------------------------------------------------------------\u001b[0m\n\u001b[0;31mAttributeError\u001b[0m                            Traceback (most recent call last)",
        "\u001b[0;32m<ipython-input-37-9631ae383b38>\u001b[0m in \u001b[0;36m<module>\u001b[0;34m()\u001b[0m\n\u001b[1;32m      1\u001b[0m \u001b[0mf\u001b[0m \u001b[0;34m=\u001b[0m \u001b[0manova_svm\u001b[0m\u001b[0;34m.\u001b[0m\u001b[0mfit\u001b[0m\u001b[0;34m(\u001b[0m\u001b[0mX\u001b[0m\u001b[0;34m,\u001b[0m \u001b[0my\u001b[0m\u001b[0;34m)\u001b[0m\u001b[0;34m\u001b[0m\u001b[0m\n\u001b[0;32m----> 2\u001b[0;31m \u001b[0mft\u001b[0m \u001b[0;34m=\u001b[0m \u001b[0manova_svm\u001b[0m\u001b[0;34m.\u001b[0m\u001b[0mfit_transform\u001b[0m\u001b[0;34m(\u001b[0m\u001b[0mX\u001b[0m\u001b[0;34m,\u001b[0m\u001b[0my\u001b[0m\u001b[0;34m)\u001b[0m\u001b[0;34m\u001b[0m\u001b[0m\n\u001b[0m\u001b[1;32m      3\u001b[0m \u001b[0;34m\u001b[0m\u001b[0m\n\u001b[1;32m      4\u001b[0m \u001b[0;32mprint\u001b[0m \u001b[0mft\u001b[0m\u001b[0;34m.\u001b[0m\u001b[0mshape\u001b[0m\u001b[0;34m\u001b[0m\u001b[0m\n\u001b[1;32m      5\u001b[0m \u001b[0;32mprint\u001b[0m \u001b[0mft\u001b[0m\u001b[0;34m\u001b[0m\u001b[0m\n",
        "\u001b[0;32m/usr/lib/python2.7/dist-packages/sklearn/pipeline.pyc\u001b[0m in \u001b[0;36mfit_transform\u001b[0;34m(self, X, y, **fit_params)\u001b[0m\n\u001b[1;32m    140\u001b[0m             \u001b[0;32mreturn\u001b[0m \u001b[0mself\u001b[0m\u001b[0;34m.\u001b[0m\u001b[0msteps\u001b[0m\u001b[0;34m[\u001b[0m\u001b[0;34m-\u001b[0m\u001b[0;36m1\u001b[0m\u001b[0;34m]\u001b[0m\u001b[0;34m[\u001b[0m\u001b[0;34m-\u001b[0m\u001b[0;36m1\u001b[0m\u001b[0;34m]\u001b[0m\u001b[0;34m.\u001b[0m\u001b[0mfit_transform\u001b[0m\u001b[0;34m(\u001b[0m\u001b[0mXt\u001b[0m\u001b[0;34m,\u001b[0m \u001b[0my\u001b[0m\u001b[0;34m,\u001b[0m \u001b[0;34m**\u001b[0m\u001b[0mfit_params\u001b[0m\u001b[0;34m)\u001b[0m\u001b[0;34m\u001b[0m\u001b[0m\n\u001b[1;32m    141\u001b[0m         \u001b[0;32melse\u001b[0m\u001b[0;34m:\u001b[0m\u001b[0;34m\u001b[0m\u001b[0m\n\u001b[0;32m--> 142\u001b[0;31m             \u001b[0;32mreturn\u001b[0m \u001b[0mself\u001b[0m\u001b[0;34m.\u001b[0m\u001b[0msteps\u001b[0m\u001b[0;34m[\u001b[0m\u001b[0;34m-\u001b[0m\u001b[0;36m1\u001b[0m\u001b[0;34m]\u001b[0m\u001b[0;34m[\u001b[0m\u001b[0;34m-\u001b[0m\u001b[0;36m1\u001b[0m\u001b[0;34m]\u001b[0m\u001b[0;34m.\u001b[0m\u001b[0mfit\u001b[0m\u001b[0;34m(\u001b[0m\u001b[0mXt\u001b[0m\u001b[0;34m,\u001b[0m \u001b[0my\u001b[0m\u001b[0;34m,\u001b[0m \u001b[0;34m**\u001b[0m\u001b[0mfit_params\u001b[0m\u001b[0;34m)\u001b[0m\u001b[0;34m.\u001b[0m\u001b[0mtransform\u001b[0m\u001b[0;34m(\u001b[0m\u001b[0mXt\u001b[0m\u001b[0;34m)\u001b[0m\u001b[0;34m\u001b[0m\u001b[0m\n\u001b[0m\u001b[1;32m    143\u001b[0m \u001b[0;34m\u001b[0m\u001b[0m\n\u001b[1;32m    144\u001b[0m     \u001b[0;32mdef\u001b[0m \u001b[0mpredict\u001b[0m\u001b[0;34m(\u001b[0m\u001b[0mself\u001b[0m\u001b[0;34m,\u001b[0m \u001b[0mX\u001b[0m\u001b[0;34m)\u001b[0m\u001b[0;34m:\u001b[0m\u001b[0;34m\u001b[0m\u001b[0m\n",
        "\u001b[0;31mAttributeError\u001b[0m: 'SVC' object has no attribute 'transform'"
       ]
      }
     ],
     "prompt_number": 37
    },
    {
     "cell_type": "code",
     "collapsed": false,
     "input": [
      "print 'Predi\u00e7\u00e3o:\\n', anova_svm.predict(X)\n",
      "print '\\nDados reais:\\n',y\n",
      "\n",
      "###\n",
      "# Ok, aqui \u00e9 feito uma predicao com dados reais, mas como extrair os indices, scores, etc?\n",
      "#\n",
      "# Idem aqui (tab depois do ponto, mostra os atributos)\n",
      "# print anova_svm.transform\n",
      "\n",
      "print \"Accuracy =\", cross_val_score(anova_svm, X, y, cv=12).mean()\n",
      "\n",
      "scores_f = cross_val_score(anova_svm, X, y, cv=7)\n",
      "print 'scores_f desvio\\n',scores_f\n",
      "\n",
      "score_f1 = cross_val_score(anova_svm, X, y, cv=7, scoring='f1')\n",
      "print 'score_f1:\\n',score_f1\n"
     ],
     "language": "python",
     "metadata": {},
     "outputs": [
      {
       "output_type": "stream",
       "stream": "stdout",
       "text": [
        "Predi\u00e7\u00e3o:\n",
        "[2 1 0 2 0 1 3 2 2 0 1 0 1 3 0 1 2 0 3 0 3 2 0 3 2 3 2 1 1 1 2 2 2 2 2 1 1\n",
        " 0 1 3 3 3 3 0 2 1 3 1 2 0 2 1 0 1 2 3 0 0 3 2 2 1 2 1 3 2 2 1 3 1 0 2 3 2\n",
        " 2 1 1 2 1 3 0 1 3 2 3 1 0 0 3 0 3 0 0 0 0 1 3 2 3 2]\n",
        "\n",
        "Dados reais:\n",
        "[2 1 0 2 0 3 3 2 2 2 1 0 1 3 0 1 0 0 3 0 3 2 0 3 2 3 2 1 1 1 2 0 2 2 2 2 1\n",
        " 0 1 3 3 3 3 0 2 1 3 1 0 0 1 1 0 1 3 3 0 0 3 2 2 1 2 1 3 2 2 1 1 1 0 2 3 2\n",
        " 2 1 1 2 1 3 0 1 3 3 3 1 0 0 3 0 3 0 0 0 0 1 3 2 3 2]\n",
        "Accuracy = 0.751157407407\n",
        "scores_f desvio\n",
        "[ 0.6         0.8         0.78571429  0.64285714  0.92857143  0.78571429\n",
        "  0.78571429]\n",
        "score_f1:\n"
       ]
      },
      {
       "output_type": "stream",
       "stream": "stdout",
       "text": [
        "[ 0.58632035  0.80634921  0.78398268  0.64047619  0.92539683  0.7797619\n",
        "  0.76825397]\n"
       ]
      }
     ],
     "prompt_number": 76
    },
    {
     "cell_type": "raw",
     "metadata": {},
     "source": [
      "Observa\u00e7\u00f5es sobre a ultima celula:\n",
      "anova_svm \u00e9 um Pipeline criado anteriormente (2 celulas), no link da documentacao http://goo.gl/ouLbrs, temos os seguintes\n",
      "metodos listados\n",
      "\n",
      "Methods\n",
      "decision_function(X) \t Applies transforms to the data, and the decision_function method of the final estimator.\n",
      "fit(X[, y]) \t          Fit all the transforms one after the other and transform the\n",
      "fit_transform(X[, y]) \tFit all the transforms one after the other and transform the\n",
      "get_params([deep]) \t\n",
      "inverse_transform(X) \t\n",
      "predict(X) \t           Applies transforms to the data, and the predict method of the final estimator.\n",
      "predict_log_proba(X) \t\n",
      "predict_proba(X) \t     Applies transforms to the data, and the predict_proba method of the final estimator.\n",
      "score(X[, y]) \t        Applies transforms to the data, and the score method of the final estimator.\n",
      "set_params(**params) \t Set the parameters of this estimator.\n",
      "transform(X) \t         Applies transforms to the data, and the transform method of the final estimator.\n"
     ]
    },
    {
     "cell_type": "code",
     "collapsed": false,
     "input": [],
     "language": "python",
     "metadata": {},
     "outputs": [],
     "prompt_number": 19
    }
   ],
   "metadata": {}
  }
 ]
}