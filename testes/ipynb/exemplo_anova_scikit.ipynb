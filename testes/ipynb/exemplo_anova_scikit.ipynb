{
 "metadata": {
  "name": ""
 },
 "nbformat": 3,
 "nbformat_minor": 0,
 "worksheets": [
  {
   "cells": [
    {
     "cell_type": "code",
     "collapsed": false,
     "input": [
      "print(__doc__)\n",
      "\n",
      "import numpy as np\n",
      "import pylab as pl\n",
      "from sklearn import svm, datasets, feature_selection, cross_validation\n",
      "from sklearn.pipeline import Pipeline"
     ],
     "language": "python",
     "metadata": {},
     "outputs": []
    },
    {
     "cell_type": "code",
     "collapsed": false,
     "input": [
      "###############################################################################\n",
      "# Import some data to play with\n",
      "digits = datasets.load_digits()\n",
      "y = digits.target\n",
      "\n",
      "# Throw away data, to be in the curse of dimension settings\n",
      "y = y[:200]\n",
      "X = digits.data[:200]\n",
      "n_samples = len(y)\n",
      "\n",
      "print 'Numero de amostras: ', n_samples\n",
      "print 'Shape dos atributos antes do reshape: ', X.shape\n",
      "\n",
      "X = X.reshape((n_samples, -1))\n",
      "print 'Shape dos atributos depois do reshape: ', X.shape\n",
      "\n",
      "\n",
      "# add 200 non-informative features\n",
      "X = np.hstack((X, 2 * np.random.random((n_samples, 200))))\n",
      "\n",
      "print 'Shape dos atributos depois da adicao de ruido: ', X.shape[1]"
     ],
     "language": "python",
     "metadata": {},
     "outputs": [
      {
       "output_type": "stream",
       "stream": "stdout",
       "text": [
        " Numero de amostras:  200\n",
        "Shape dos atributos antes do reshape:  (200, 64)\n",
        "Shape dos atributos depois do reshape:  (200, 64)\n",
        "Shape dos atributos depois da adicao de ruido:  264\n"
       ]
      }
     ],
     "prompt_number": 8
    },
    {
     "cell_type": "code",
     "collapsed": false,
     "input": [
      "###############################################################################\n",
      "# Create a feature-selection transform and an instance of SVM that we\n",
      "# combine together to have an full-blown estimator\n",
      "#\n",
      "# Cria um objeto feature-selection tranform e instncia um SVM que, combinaodos\n",
      "# s\u00e3o um 'full-blown' estimator\n",
      "#\n",
      "transform = feature_selection.SelectPercentile(feature_selection.f_classif)\n",
      "clf = Pipeline([('anova', transform), ('svc', svm.SVC(C=1.0))])\n",
      "\n",
      "print transform\n",
      "print clf"
     ],
     "language": "python",
     "metadata": {},
     "outputs": [
      {
       "output_type": "stream",
       "stream": "stdout",
       "text": [
        "SelectPercentile(percentile=10,\n",
        "         score_func=<function f_classif at 0x7f50c6817b90>)\n",
        "Pipeline(steps=[('anova', SelectPercentile(percentile=10,\n",
        "         score_func=<function f_classif at 0x7f50c6817b90>)), ('svc', SVC(C=1.0, cache_size=200, class_weight=None, coef0=0.0, degree=3, gamma=0.0,\n",
        "  kernel='rbf', max_iter=-1, probability=False, random_state=None,\n",
        "  shrinking=True, tol=0.001, verbose=False))])\n"
       ]
      }
     ],
     "prompt_number": 10
    },
    {
     "cell_type": "code",
     "collapsed": false,
     "input": [
      "###############################################################################\n",
      "# Plot the cross-validation score as a function of percentile of features\n",
      "score_means = list()\n",
      "score_stds = list()\n",
      "percentiles = (1, 3, 6, 10, 15, 20, 30, 40, 60, 80, 100)\n",
      "\n",
      "for percentile in percentiles:\n",
      "    clf.set_params(anova__percentile=percentile)\n",
      "    # Compute cross-validation score using all CPUs\n",
      "    this_scores = cross_validation.cross_val_score(clf, X, y, n_jobs=1)\n",
      "    score_means.append(this_scores.mean())\n",
      "    score_stds.append(this_scores.std())\n",
      "\n",
      "pl.errorbar(percentiles, score_means, np.array(score_stds))\n",
      "\n",
      "pl.title(\n",
      "    'Performance of the SVM-Anova varying the percentile of features selected')\n",
      "pl.xlabel('Percentile')\n",
      "pl.ylabel('Prediction rate')\n",
      "\n",
      "pl.axis('tight')\n",
      "pl.show()"
     ],
     "language": "python",
     "metadata": {},
     "outputs": [
      {
       "output_type": "stream",
       "stream": "stdout",
       "text": [
        "Automatically created module for IPython interactive environment\n"
       ]
      },
      {
       "output_type": "stream",
       "stream": "stderr",
       "text": [
        "/usr/local/lib/python2.7/dist-packages/sklearn/feature_selection/univariate_selection.py:110: RuntimeWarning: invalid value encountered in divide\n",
        "  f = msb / msw\n"
       ]
      },
      {
       "metadata": {},
       "output_type": "display_data",
       "png": "[encoded data removed]",
       "text": [
        "<matplotlib.figure.Figure at 0x7f50c5414710>"
       ]
      }
     ],
     "prompt_number": 1
    }
   ],
   "metadata": {}
  }
 ]
}