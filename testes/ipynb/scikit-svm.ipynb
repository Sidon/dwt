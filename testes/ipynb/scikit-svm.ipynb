{
 "metadata": {
  "name": ""
 },
 "nbformat": 3,
 "nbformat_minor": 0,
 "worksheets": [
  {
   "cells": [
    {
     "cell_type": "raw",
     "metadata": {},
     "source": [
      "Construindo o classificador e atribuindo os dados atrav\u00e9s de fit"
     ]
    },
    {
     "cell_type": "code",
     "collapsed": false,
     "input": [
      "from sklearn import svm\n",
      "X = [[0, 0], [1, 1]]\n",
      "y = [0, 1]\n",
      "clf = svm.SVC()\n",
      "clf.fit(X, y)  "
     ],
     "language": "python",
     "metadata": {},
     "outputs": [
      {
       "metadata": {},
       "output_type": "pyout",
       "prompt_number": 1,
       "text": [
        "SVC(C=1.0, cache_size=200, class_weight=None, coef0=0.0, degree=3, gamma=0.0,\n",
        "  kernel='rbf', max_iter=-1, probability=False, random_state=None,\n",
        "  shrinking=True, tol=0.001, verbose=False)"
       ]
      }
     ],
     "prompt_number": 1
    },
    {
     "cell_type": "raw",
     "metadata": {},
     "source": [
      "Tentando fazer a predi\u00e7\u00e3o"
     ]
    },
    {
     "cell_type": "code",
     "collapsed": false,
     "input": [
      "p = clf.predict([[2., 2.]])\n",
      "print p"
     ],
     "language": "python",
     "metadata": {},
     "outputs": [
      {
       "output_type": "stream",
       "stream": "stdout",
       "text": [
        "[1]\n"
       ]
      }
     ],
     "prompt_number": 2
    },
    {
     "cell_type": "raw",
     "metadata": {},
     "source": [
      "Fun\u00e7\u00f5es de decis\u00e3o SVMs dependem de algum subset de dados de trenamento, chamado de suport vectores. Algumas proprieda\n",
      "des destes vetores de suporte podem ser encontradas nos membros support_vectores_, support e n_suport"
     ]
    },
    {
     "cell_type": "code",
     "collapsed": false,
     "input": [
      "# get support vectors\n",
      "clf.support_vectors_\n",
      "\n",
      "# get indices of support vectors\n",
      "clf.support_ \n",
      "\n",
      "# get number of support vectors for each class\n",
      "clf.n_support_ "
     ],
     "language": "python",
     "metadata": {},
     "outputs": [
      {
       "metadata": {},
       "output_type": "pyout",
       "prompt_number": 3,
       "text": [
        "array([1, 1], dtype=int32)"
       ]
      }
     ],
     "prompt_number": 3
    },
    {
     "cell_type": "raw",
     "metadata": {},
     "source": [
      "Classifica\u00e7\u00e3o Multi-classes\n",
      "\n",
      "SVC e NuSVC implementa a abordagem de \"um-contra-todos\" (Knerr et al., 1990) para a classifica\u00e7\u00e3o multiclasse. Se b_ckass \u00e9 o\n",
      "numero de classes, ent\u00e3o (n_class - 1)/2 classificadores s\u00e3o construidose cada um crua dadis a partir de duas classes"
     ]
    },
    {
     "cell_type": "code",
     "collapsed": false,
     "input": [
      "X = [[0], [1], [2], [3]]\n",
      "Y = [0, 1, 2, 3]\n",
      "clf = svm.SVC()\n",
      "clf.fit(X, Y) "
     ],
     "language": "python",
     "metadata": {},
     "outputs": [
      {
       "metadata": {},
       "output_type": "pyout",
       "prompt_number": 4,
       "text": [
        "SVC(C=1.0, cache_size=200, class_weight=None, coef0=0.0, degree=3, gamma=0.0,\n",
        "  kernel='rbf', max_iter=-1, probability=False, random_state=None,\n",
        "  shrinking=True, tol=0.001, verbose=False)"
       ]
      }
     ],
     "prompt_number": 4
    },
    {
     "cell_type": "code",
     "collapsed": false,
     "input": [
      "dec = clf.decision_function([[1]])\n",
      "dec.shape[1] # 4 classes: 4*3/2 = 6"
     ],
     "language": "python",
     "metadata": {},
     "outputs": [
      {
       "metadata": {},
       "output_type": "pyout",
       "prompt_number": 5,
       "text": [
        "6"
       ]
      }
     ],
     "prompt_number": 5
    },
    {
     "cell_type": "code",
     "collapsed": false,
     "input": [],
     "language": "python",
     "metadata": {},
     "outputs": [],
     "prompt_number": 5
    }
   ],
   "metadata": {}
  }
 ]
}