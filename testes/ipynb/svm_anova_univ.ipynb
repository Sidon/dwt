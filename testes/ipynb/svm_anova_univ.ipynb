{
 "metadata": {
  "name": "svm_anova_univ"
 },
 "nbformat": 3,
 "nbformat_minor": 0,
 "worksheets": [
  {
   "cells": [
    {
     "cell_type": "code",
     "collapsed": false,
     "input": [
      "# http://goo.gl/h48vVc\n",
      "# SVM-Anova: SVM with univariate feature selection\n",
      "print(__doc__)\n",
      "\n",
      "import numpy as np\n",
      "import pylab as pl\n",
      "from sklearn import svm, datasets, feature_selection, cross_validation\n",
      "from sklearn.pipeline import Pipeline\n",
      "\n",
      "###############################################################################\n",
      "# Importando os dados\n",
      "digits = datasets.load_digits()\n",
      "y = digits.target\n",
      "\n",
      "# Apenas uma parte dos dados\n",
      "y = y[:200]\n",
      "X = digits.data[:200]\n",
      "\n",
      "print 'Shape de X: ',X.shape\n",
      "print 'Shape de y: ',y.shape\n",
      "\n",
      "n_samples = len(y)\n",
      "X = X.reshape((n_samples, -1))\n",
      "\n",
      "\n",
      "# add 200 non-informative features   => Adicao de ruidos\n",
      "X = np.hstack((X, 2 * np.random.random((n_samples, 200))))\n",
      "\n",
      "print 'Shape de X, depois do ruido: ',X.shape"
     ],
     "language": "python",
     "metadata": {},
     "outputs": [
      {
       "output_type": "stream",
       "stream": "stdout",
       "text": [
        "Built-in functions, exceptions, and other objects.\n",
        "\n",
        "Noteworthy: None is the `nil' object; Ellipsis represents `...' in slices.\n",
        "Shape de X: "
       ]
      },
      {
       "output_type": "stream",
       "stream": "stdout",
       "text": [
        " (200, 64)\n",
        "Shape de y:  (200,)\n",
        "Shape de X, depois do ruido:  (200, 264)\n"
       ]
      }
     ],
     "prompt_number": 8
    },
    {
     "cell_type": "code",
     "collapsed": false,
     "input": [
      "###############################################################################\n",
      "# Cria o selecionador de atributos e uma instancia de SVM que ser\u00e3o combinados \n",
      "# para ter uma estimator plenamente funcional\n",
      "transform = feature_selection.SelectPercentile(feature_selection.f_classif)\n",
      "print ' Transform ( O selecionador):\\n',transform\n",
      "\n",
      "clf = Pipeline([('anova', transform), ('svc', svm.SVC(C=1.0))])\n",
      "print '\\nClf (O classificador) :\\n', clf"
     ],
     "language": "python",
     "metadata": {},
     "outputs": [
      {
       "output_type": "stream",
       "stream": "stdout",
       "text": [
        " Transform ( O selecionador):\n",
        "SelectPercentile(percentile=10, score_func=<function f_classif at 0x35187d0>)\n",
        "\n",
        "Clf (O classificaor :\n",
        "Pipeline(anova=SelectPercentile(percentile=10, score_func=<function f_classif at 0x35187d0>),\n",
        "     anova__percentile=10,\n",
        "     anova__score_func=<function f_classif at 0x35187d0>,\n",
        "     svc=SVC(C=1.0, cache_size=200, class_weight=None, coef0=0.0, degree=3, gamma=0.0,\n",
        "  kernel=rbf, max_iter=-1, probability=False, random_state=None,\n",
        "  shrinking=True, tol=0.001, verbose=False),\n",
        "     svc__C=1.0, svc__cache_size=200, svc__class_weight=None,\n",
        "     svc__coef0=0.0, svc__degree=3, svc__gamma=0.0, svc__kernel=rbf,\n",
        "     svc__max_iter=-1, svc__probability=False, svc__random_state=None,\n",
        "     svc__shrinking=True, svc__tol=0.001, svc__verbose=False)\n"
       ]
      }
     ],
     "prompt_number": 10
    },
    {
     "cell_type": "code",
     "collapsed": false,
     "input": [
      "X_new = clf.fit_transform(X,y)\n",
      "print X_new.shape"
     ],
     "language": "python",
     "metadata": {},
     "outputs": [
      {
       "ename": "AttributeError",
       "evalue": "'SVC' object has no attribute 'transform'",
       "output_type": "pyerr",
       "traceback": [
        "\u001b[0;31m---------------------------------------------------------------------------\u001b[0m\n\u001b[0;31mAttributeError\u001b[0m                            Traceback (most recent call last)",
        "\u001b[0;32m<ipython-input-12-1a69d9ab3e8f>\u001b[0m in \u001b[0;36m<module>\u001b[0;34m()\u001b[0m\n\u001b[0;32m----> 1\u001b[0;31m \u001b[0mX_new\u001b[0m \u001b[0;34m=\u001b[0m \u001b[0mclf\u001b[0m\u001b[0;34m.\u001b[0m\u001b[0mfit_transform\u001b[0m\u001b[0;34m(\u001b[0m\u001b[0mX\u001b[0m\u001b[0;34m,\u001b[0m\u001b[0my\u001b[0m\u001b[0;34m)\u001b[0m\u001b[0;34m\u001b[0m\u001b[0m\n\u001b[0m\u001b[1;32m      2\u001b[0m \u001b[0;32mprint\u001b[0m \u001b[0mX_new\u001b[0m\u001b[0;34m.\u001b[0m\u001b[0mshape\u001b[0m\u001b[0;34m\u001b[0m\u001b[0m\n",
        "\u001b[0;32m/usr/local/lib/python2.7/dist-packages/sklearn/pipeline.pyc\u001b[0m in \u001b[0;36mfit_transform\u001b[0;34m(self, X, y, **fit_params)\u001b[0m\n\u001b[1;32m    140\u001b[0m             \u001b[0;32mreturn\u001b[0m \u001b[0mself\u001b[0m\u001b[0;34m.\u001b[0m\u001b[0msteps\u001b[0m\u001b[0;34m[\u001b[0m\u001b[0;34m-\u001b[0m\u001b[0;36m1\u001b[0m\u001b[0;34m]\u001b[0m\u001b[0;34m[\u001b[0m\u001b[0;34m-\u001b[0m\u001b[0;36m1\u001b[0m\u001b[0;34m]\u001b[0m\u001b[0;34m.\u001b[0m\u001b[0mfit_transform\u001b[0m\u001b[0;34m(\u001b[0m\u001b[0mXt\u001b[0m\u001b[0;34m,\u001b[0m \u001b[0my\u001b[0m\u001b[0;34m,\u001b[0m \u001b[0;34m**\u001b[0m\u001b[0mfit_params\u001b[0m\u001b[0;34m)\u001b[0m\u001b[0;34m\u001b[0m\u001b[0m\n\u001b[1;32m    141\u001b[0m         \u001b[0;32melse\u001b[0m\u001b[0;34m:\u001b[0m\u001b[0;34m\u001b[0m\u001b[0m\n\u001b[0;32m--> 142\u001b[0;31m             \u001b[0;32mreturn\u001b[0m \u001b[0mself\u001b[0m\u001b[0;34m.\u001b[0m\u001b[0msteps\u001b[0m\u001b[0;34m[\u001b[0m\u001b[0;34m-\u001b[0m\u001b[0;36m1\u001b[0m\u001b[0;34m]\u001b[0m\u001b[0;34m[\u001b[0m\u001b[0;34m-\u001b[0m\u001b[0;36m1\u001b[0m\u001b[0;34m]\u001b[0m\u001b[0;34m.\u001b[0m\u001b[0mfit\u001b[0m\u001b[0;34m(\u001b[0m\u001b[0mXt\u001b[0m\u001b[0;34m,\u001b[0m \u001b[0my\u001b[0m\u001b[0;34m,\u001b[0m \u001b[0;34m**\u001b[0m\u001b[0mfit_params\u001b[0m\u001b[0;34m)\u001b[0m\u001b[0;34m.\u001b[0m\u001b[0mtransform\u001b[0m\u001b[0;34m(\u001b[0m\u001b[0mXt\u001b[0m\u001b[0;34m)\u001b[0m\u001b[0;34m\u001b[0m\u001b[0m\n\u001b[0m\u001b[1;32m    143\u001b[0m \u001b[0;34m\u001b[0m\u001b[0m\n\u001b[1;32m    144\u001b[0m     \u001b[0;32mdef\u001b[0m \u001b[0mpredict\u001b[0m\u001b[0;34m(\u001b[0m\u001b[0mself\u001b[0m\u001b[0;34m,\u001b[0m \u001b[0mX\u001b[0m\u001b[0;34m)\u001b[0m\u001b[0;34m:\u001b[0m\u001b[0;34m\u001b[0m\u001b[0m\n",
        "\u001b[0;31mAttributeError\u001b[0m: 'SVC' object has no attribute 'transform'"
       ]
      }
     ],
     "prompt_number": 12
    },
    {
     "cell_type": "code",
     "collapsed": false,
     "input": [
      "###############################################################################\n",
      "# Plot the cross-validation score as a function of percentile of features\n",
      "score_means = list()\n",
      "score_stds = list()\n",
      "percentiles = (1, 3, 6, 10, 15, 20, 30, 40, 60, 80, 100)\n",
      "\n",
      "for percentile in percentiles:\n",
      "    clf.set_params(anova__percentile=percentile)\n",
      "    # Compute cross-validation score using all CPUs\n",
      "    this_scores = cross_validation.cross_val_score(clf, X, y, n_jobs=1)\n",
      "    score_means.append(this_scores.mean())\n",
      "    score_stds.append(this_scores.std())\n",
      "\n",
      "pl.errorbar(percentiles, score_means, np.array(score_stds))\n",
      "\n",
      "pl.title(\n",
      "    'Performance of the SVM-Anova varying the percentile of features selected')\n",
      "pl.xlabel('Percentile')\n",
      "pl.ylabel('Prediction rate')\n",
      "\n",
      "pl.axis('tight')\n",
      "pl.show()"
     ],
     "language": "python",
     "metadata": {},
     "outputs": [],
     "prompt_number": 3
    }
   ],
   "metadata": {}
  }
 ]
}