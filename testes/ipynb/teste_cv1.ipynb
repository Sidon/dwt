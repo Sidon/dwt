{
 "metadata": {
  "name": ""
 },
 "nbformat": 3,
 "nbformat_minor": 0,
 "worksheets": [
  {
   "cells": [
    {
     "cell_type": "code",
     "collapsed": false,
     "input": [
      "# -*- coding: utf-8 -*-\n",
      "from __future__ import print_function\n",
      "\n",
      "__author__ = 'Sidon'\n",
      "\n",
      "import time\n",
      "import logging\n",
      "import pylab as pl\n",
      "from sklearn import cross_validation\n",
      "from sklearn.cross_validation import train_test_split\n",
      "from sklearn.datasets import fetch_lfw_people\n",
      "from sklearn.grid_search import GridSearchCV\n",
      "from sklearn.metrics import classification_report\n",
      "from sklearn.metrics import confusion_matrix\n",
      "from sklearn.decomposition import RandomizedPCA\n",
      "from sklearn.preprocessing import StandardScaler\n",
      "from sklearn import metrics\n",
      "from sklearn import svm\n",
      "from sklearn.svm import SVC\n",
      "import sys\n",
      "from utilclass import *\n"
     ],
     "language": "python",
     "metadata": {},
     "outputs": [],
     "prompt_number": 7
    },
    {
     "cell_type": "code",
     "collapsed": false,
     "input": [
      "def apply_exp(exp):\n",
      "    list_funcs = [cv_svm_2]\n",
      "\n",
      "    for func in list_funcs:\n",
      "        if func.__name__ == exp['classificador']:\n",
      "            func(exp)\n",
      "            break"
     ],
     "language": "python",
     "metadata": {},
     "outputs": [],
     "prompt_number": 8
    },
    {
     "cell_type": "code",
     "collapsed": false,
     "input": [
      "def cv_svm_2(exp):\n",
      "\n",
      "    # Baseado em: http://scikit-learn.org/stable/modules/cross_validation.html\n",
      "\n",
      "    print ('Obtendo os dados ja normalizados (minha lib classutil)')\n",
      "    features, targets = getdata(exp, agrupado=False)\n",
      "\n",
      "    X_cll_x_fl = np.concatenate((features['cll'], features['fl']))\n",
      "    X_cll_x_mcl = np.concatenate((features['cll'], features['mcl']))\n",
      "    X_fl_x_mcl = np.concatenate((features['fl'], features['mcl']))\n",
      "\n",
      "\n",
      "    y_cll_x_fl = np.concatenate((targets['cll'], targets['fl']))\n",
      "    y_cll_x_mcl = np.concatenate((targets['cll'], targets['mcl']))\n",
      "    y_fl_x_mcl = np.concatenate((targets['fl'], targets['mcl']))\n",
      "    \n",
      "    print ('Classificando cll x fl')\n",
      "    results_cll_x_fl = svc_cv(X_cll_x_fl, y_cll_x_fl)\n",
      "\n",
      "    print ('Classificando cll x mcl')\n",
      "    results_cll_x_mcl = svc_cv(X_cll_x_mcl, y_cll_x_mcl)\n",
      "\n",
      "    print ('Classificando fl x mcl')\n",
      "    results_fl_x_mcl = svc_cv(X_fl_x_mcl, y_fl_x_mcl)\n",
      "\n",
      "    print (\"classification Report: \", time.strftime(\"%d/%m/%Y %I:%M:%S\"),end=\"\")\n",
      "    print (\"Descricao Experimento: \", exp['descricao'],end=\"\")\n",
      "\n",
      "    print (\"\", \"Resultados CLL x FL\", results_cll_x_fl)\n",
      "    print (\"\", \"Resultados CLL x MCL\", results_cll_x_mcl)\n",
      "    print (\"\", \"Resultados FL x MCL\", results_cll_x_mcl)\n"
     ],
     "language": "python",
     "metadata": {},
     "outputs": [],
     "prompt_number": 9
    },
    {
     "cell_type": "code",
     "collapsed": false,
     "input": [
      "def svc_cv(X, targets, kernel='linear', pca=True, n_components=2, test_size=0.2, n_folds=5):\n",
      "\n",
      "\n",
      "    print ('Shape de x: ', X.shape)\n",
      "\n",
      "    results = {}\n",
      "\n",
      "    # Aplicando o PCA\n",
      "    features = ApplyPCA(X, targets, n_components)\n",
      "\n",
      "    print ('Criando o classificador...')\n",
      "    clf = svm.SVC(kernel=kernel, C=1)\n",
      "\n",
      "    print ('Computando o score (Acur\u00e1cia) ...')\n",
      "    scores_SVC = cross_validation.cross_val_score(clf, features, targets, cv=n_folds)\n",
      "\n",
      "    # Media e desvio padr\u00e3o\n",
      "    accuracia, std = scores_SVC.mean(), scores_SVC.std() * 2\n",
      "\n",
      "\n",
      "    '''Por default, o score computado em cada intera\u00e7\u00e3o do CV \u00e9 atrav\u00e9s do metodo do\n",
      "    estimador. Isto pode ser alterado atrav\u00e9s da utiliza\u00e7\u00e3o do parametro scoring'''\n",
      "    score_f1 = cross_validation.cross_val_score(clf, features, targets, cv=5, scoring='f1')\n",
      "\n",
      "    results['scores_SVC'] = scores_SVC\n",
      "    results['Accuracia'] = accuracia\n",
      "    results['Desvio'] = std\n",
      "    results['score_f1'] = score_f1\n",
      "\n",
      "    return results\n"
     ],
     "language": "python",
     "metadata": {},
     "outputs": [],
     "prompt_number": 10
    },
    {
     "cell_type": "code",
     "collapsed": false,
     "input": [
      "        exp = {}\n",
      "        exp['store'] = '/home/sidon/etc/output/lymphoma/hdf/swt2_haar.h5'\n",
      "        exp['key'] = '/SWT2_DB1_1_113'\n",
      "        exp['classificador'] = 'cv_svm_2'\n",
      "        exp['detalhe'] = 'Aproximacao'\n",
      "        exp['descricao'] = 'Teste com swt cross validation notbook'\n",
      "        apply_exp(exp)\n"
     ],
     "language": "python",
     "metadata": {},
     "outputs": [
      {
       "ename": "TypeError",
       "evalue": "getdata() got an unexpected keyword argument 'agrupado'",
       "output_type": "pyerr",
       "traceback": [
        "\u001b[0;31m---------------------------------------------------------------------------\u001b[0m\n\u001b[0;31mTypeError\u001b[0m                                 Traceback (most recent call last)",
        "\u001b[0;32m<ipython-input-11-86e8be9b8a29>\u001b[0m in \u001b[0;36m<module>\u001b[0;34m()\u001b[0m\n\u001b[1;32m      5\u001b[0m \u001b[0mexp\u001b[0m\u001b[0;34m[\u001b[0m\u001b[0;34m'detalhe'\u001b[0m\u001b[0;34m]\u001b[0m \u001b[0;34m=\u001b[0m \u001b[0;34m'Aproximacao'\u001b[0m\u001b[0;34m\u001b[0m\u001b[0m\n\u001b[1;32m      6\u001b[0m \u001b[0mexp\u001b[0m\u001b[0;34m[\u001b[0m\u001b[0;34m'descricao'\u001b[0m\u001b[0;34m]\u001b[0m \u001b[0;34m=\u001b[0m \u001b[0;34m'Teste com swt cross validation notbook'\u001b[0m\u001b[0;34m\u001b[0m\u001b[0m\n\u001b[0;32m----> 7\u001b[0;31m \u001b[0mapply_exp\u001b[0m\u001b[0;34m(\u001b[0m\u001b[0mexp\u001b[0m\u001b[0;34m)\u001b[0m\u001b[0;34m\u001b[0m\u001b[0m\n\u001b[0m",
        "\u001b[0;32m<ipython-input-8-5d4c12cf215a>\u001b[0m in \u001b[0;36mapply_exp\u001b[0;34m(exp)\u001b[0m\n\u001b[1;32m      4\u001b[0m     \u001b[0;32mfor\u001b[0m \u001b[0mfunc\u001b[0m \u001b[0;32min\u001b[0m \u001b[0mlist_funcs\u001b[0m\u001b[0;34m:\u001b[0m\u001b[0;34m\u001b[0m\u001b[0m\n\u001b[1;32m      5\u001b[0m         \u001b[0;32mif\u001b[0m \u001b[0mfunc\u001b[0m\u001b[0;34m.\u001b[0m\u001b[0m__name__\u001b[0m \u001b[0;34m==\u001b[0m \u001b[0mexp\u001b[0m\u001b[0;34m[\u001b[0m\u001b[0;34m'classificador'\u001b[0m\u001b[0;34m]\u001b[0m\u001b[0;34m:\u001b[0m\u001b[0;34m\u001b[0m\u001b[0m\n\u001b[0;32m----> 6\u001b[0;31m             \u001b[0mfunc\u001b[0m\u001b[0;34m(\u001b[0m\u001b[0mexp\u001b[0m\u001b[0;34m)\u001b[0m\u001b[0;34m\u001b[0m\u001b[0m\n\u001b[0m\u001b[1;32m      7\u001b[0m             \u001b[0;32mbreak\u001b[0m\u001b[0;34m\u001b[0m\u001b[0m\n",
        "\u001b[0;32m<ipython-input-9-cbccf407a608>\u001b[0m in \u001b[0;36mcv_svm_2\u001b[0;34m(exp)\u001b[0m\n\u001b[1;32m      4\u001b[0m \u001b[0;34m\u001b[0m\u001b[0m\n\u001b[1;32m      5\u001b[0m     \u001b[0;32mprint\u001b[0m \u001b[0;34m(\u001b[0m\u001b[0;34m'Obtendo os dados ja normalizados (minha lib classutil)'\u001b[0m\u001b[0;34m)\u001b[0m\u001b[0;34m\u001b[0m\u001b[0m\n\u001b[0;32m----> 6\u001b[0;31m     \u001b[0mfeatures\u001b[0m\u001b[0;34m,\u001b[0m \u001b[0mtargets\u001b[0m \u001b[0;34m=\u001b[0m \u001b[0mgetdata\u001b[0m\u001b[0;34m(\u001b[0m\u001b[0mexp\u001b[0m\u001b[0;34m,\u001b[0m \u001b[0magrupado\u001b[0m\u001b[0;34m=\u001b[0m\u001b[0mFalse\u001b[0m\u001b[0;34m)\u001b[0m\u001b[0;34m\u001b[0m\u001b[0m\n\u001b[0m\u001b[1;32m      7\u001b[0m \u001b[0;34m\u001b[0m\u001b[0m\n\u001b[1;32m      8\u001b[0m     \u001b[0mX_cll_x_fl\u001b[0m \u001b[0;34m=\u001b[0m \u001b[0mnp\u001b[0m\u001b[0;34m.\u001b[0m\u001b[0mconcatenate\u001b[0m\u001b[0;34m(\u001b[0m\u001b[0;34m(\u001b[0m\u001b[0mfeatures\u001b[0m\u001b[0;34m[\u001b[0m\u001b[0;34m'cll'\u001b[0m\u001b[0;34m]\u001b[0m\u001b[0;34m,\u001b[0m \u001b[0mfeatures\u001b[0m\u001b[0;34m[\u001b[0m\u001b[0;34m'fl'\u001b[0m\u001b[0;34m]\u001b[0m\u001b[0;34m)\u001b[0m\u001b[0;34m)\u001b[0m\u001b[0;34m\u001b[0m\u001b[0m\n",
        "\u001b[0;31mTypeError\u001b[0m: getdata() got an unexpected keyword argument 'agrupado'"
       ]
      },
      {
       "output_type": "stream",
       "stream": "stdout",
       "text": [
        "Obtendo os dados ja normalizados (minha lib classutil)\n"
       ]
      }
     ],
     "prompt_number": 11
    },
    {
     "cell_type": "code",
     "collapsed": false,
     "input": [],
     "language": "python",
     "metadata": {},
     "outputs": []
    }
   ],
   "metadata": {}
  }
 ]
}