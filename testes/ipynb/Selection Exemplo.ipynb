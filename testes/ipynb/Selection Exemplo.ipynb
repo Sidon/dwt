{
 "metadata": {
  "name": ""
 },
 "nbformat": 3,
 "nbformat_minor": 0,
 "worksheets": [
  {
   "cells": [
    {
     "cell_type": "code",
     "collapsed": false,
     "input": [
      "# Exemplo de: http://scikit-learn.org/stable/auto_examples/plot_rfe_with_cross_validation.html\n",
      "\n",
      "print(__doc__)\n",
      "\n",
      "import numpy as np\n",
      "import pylab as pl\n",
      "\n",
      "from sklearn import datasets, svm\n",
      "from sklearn.feature_selection import SelectPercentile, f_classif\n",
      "\n",
      "###############################################################################\n",
      "# import some data to play with\n",
      "\n",
      "# Carrega o dataset iris\n",
      "iris = datasets.load_iris()\n",
      "\n",
      "# Prepara ruido para acrescentar ao dataset\n",
      "E = np.random.uniform(0, 0.1, size=(len(iris.data), 20))\n",
      "\n",
      "# Acresecenta ruido aos atributos do dataset\n",
      "X = np.hstack((iris.data, E))\n",
      "y = iris.target\n",
      "\n",
      "\n",
      "print 'Shape do dataset original: ', iris.data.shape\n",
      "print 'Shape apos a adicao do ruido: ', X.shape\n",
      "print 'Shape -1, mostra o shape do ultimo elmento:', X.shape[-1]\n"
     ],
     "language": "python",
     "metadata": {},
     "outputs": [
      {
       "output_type": "stream",
       "stream": "stdout",
       "text": [
        "Automatically created module for IPython interactive environment\n",
        "Shape do dataset original:  (150, 4)\n",
        "Shape apos a adicao do ruido:  (150, 24)\n",
        "Shape -1, mostra o shape do ultimo elmento 24\n"
       ]
      }
     ],
     "prompt_number": 7
    },
    {
     "cell_type": "code",
     "collapsed": false,
     "input": [
      "###############################################################################\n",
      "pl.figure(1)\n",
      "pl.clf()\n",
      "\n",
      "# Cria indices com o numero de atributos de cada amostra\n",
      "X_indices = np.arange(X.shape[-1])\n",
      "\n",
      "print iris.data.shape\n",
      "print X.shape\n",
      "print X_indices"
     ],
     "language": "python",
     "metadata": {},
     "outputs": [
      {
       "output_type": "stream",
       "stream": "stdout",
       "text": [
        "(150, 4)\n",
        "(150, 24)\n",
        "[ 0  1  2  3  4  5  6  7  8  9 10 11 12 13 14 15 16 17 18 19 20 21 22 23]\n"
       ]
      },
      {
       "metadata": {},
       "output_type": "display_data",
       "text": [
        "<matplotlib.figure.Figure at 0x7f720d86ac90>"
       ]
      }
     ],
     "prompt_number": 9
    },
    {
     "cell_type": "code",
     "collapsed": false,
     "input": [
      "###############################################################################\n",
      "# Univariate feature selection with F-test for feature scoring\n",
      "# We use the default selection function: the 10% most significant features\n",
      "\n",
      "selector = SelectPercentile(f_classif, percentile=10)\n",
      "selector.fit(X, y)\n",
      "\n",
      "scores = -np.log10(selector.pvalues_)\n",
      "scores /= scores.max()\n",
      "\n",
      "pl.bar(X_indices - .45, scores, width=.2,\n",
      "       label=r'Univariate score ($-Log(p_{value})$)', color='g')\n",
      "\n",
      "\n",
      "print scores.shape\n",
      "\n",
      "print 'scores : ', scores\n"
     ],
     "language": "python",
     "metadata": {},
     "outputs": [
      {
       "output_type": "stream",
       "stream": "stdout",
       "text": [
        "(24,)\n",
        "scores :  [  3.40023500e-01   1.75404693e-01   1.00000000e+00   9.31982956e-01\n",
        "   4.90235908e-03   1.54528676e-03   7.74407353e-03   5.42594435e-03\n",
        "   1.37579699e-02   2.35047378e-02   5.27360817e-03   8.86217909e-04\n",
        "   9.00075611e-04   1.62877280e-02   4.26043811e-03   2.84310300e-03\n",
        "   1.38517801e-03   8.87582785e-03   1.21230760e-02   5.42510678e-03\n",
        "   4.33582374e-03   1.23493920e-03   1.67280312e-03   9.84153675e-03]\n"
       ]
      },
      {
       "metadata": {},
       "output_type": "display_data",
       "png": "[encoded data removed]",
       "text": [
        "<matplotlib.figure.Figure at 0x7f720d6eaed0>"
       ]
      }
     ],
     "prompt_number": 10
    },
    {
     "cell_type": "code",
     "collapsed": false,
     "input": [
      "\n",
      "###############################################################################\n",
      "# Compare to the weights of an SVM\n",
      "clf = svm.SVC(kernel='linear')\n",
      "clf.fit(X, y)\n",
      "\n",
      "svm_weights = (clf.coef_ ** 2).sum(axis=0)\n",
      "svm_weights /= svm_weights.max()\n",
      "\n",
      "pl.bar(X_indices - .25, svm_weights, width=.2, label='SVM weight', color='r')\n",
      "\n",
      "clf_selected = svm.SVC(kernel='linear')\n",
      "clf_selected.fit(selector.transform(X), y)\n",
      "\n",
      "svm_weights_selected = (clf_selected.coef_ ** 2).sum(axis=0)\n",
      "svm_weights_selected /= svm_weights_selected.max()\n",
      "\n",
      "pl.bar(X_indices[selector.get_support()] - .05, svm_weights_selected, width=.2,\n",
      "       label='SVM weights after selection', color='b')\n",
      "\n",
      "\n",
      "pl.title(\"Comparing feature selection\")\n",
      "pl.xlabel('Feature number')\n",
      "pl.yticks(())\n",
      "pl.axis('tight')\n",
      "pl.legend(loc='upper right')\n",
      "pl.show()"
     ],
     "language": "python",
     "metadata": {},
     "outputs": [
      {
       "output_type": "stream",
       "stream": "stdout",
       "text": [
        "(24,)\n",
        "scores :  [  3.40023500e-01   1.75404693e-01   1.00000000e+00   9.31982956e-01\n",
        "   4.90235908e-03   1.54528676e-03   7.74407353e-03   5.42594435e-03\n",
        "   1.37579699e-02   2.35047378e-02   5.27360817e-03   8.86217909e-04\n",
        "   9.00075611e-04   1.62877280e-02   4.26043811e-03   2.84310300e-03\n",
        "   1.38517801e-03   8.87582785e-03   1.21230760e-02   5.42510678e-03\n",
        "   4.33582374e-03   1.23493920e-03   1.67280312e-03   9.84153675e-03]\n"
       ]
      },
      {
       "metadata": {},
       "output_type": "display_data",
       "png": "[encoded data removed]",
       "text": [
        "<matplotlib.figure.Figure at 0x7f720d845790>"
       ]
      }
     ],
     "prompt_number": 8
    }
   ],
   "metadata": {}
  }
 ]
}