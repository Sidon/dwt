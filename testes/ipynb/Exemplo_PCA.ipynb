{
 "metadata": {
  "name": ""
 },
 "nbformat": 3,
 "nbformat_minor": 0,
 "worksheets": [
  {
   "cells": [
    {
     "cell_type": "code",
     "collapsed": false,
     "input": [
      "print(__doc__)\n",
      "\n",
      "\n",
      "# Code source: Gael Varoqueux\n",
      "# License: BSD 3 clause\n",
      "\n",
      "import numpy as np\n",
      "import pylab as pl\n",
      "from mpl_toolkits.mplot3d import Axes3D\n",
      "\n",
      "\n",
      "from sklearn import decomposition\n",
      "from sklearn import datasets\n",
      "\n",
      "np.random.seed(5)\n",
      "\n",
      "centers = [[1, 1], [-1, -1], [1, -1]]\n",
      "iris = datasets.load_iris()\n",
      "X = iris.data\n",
      "y = iris.target\n",
      "\n",
      "fig = pl.figure(1, figsize=(4, 3))\n",
      "pl.clf()\n",
      "ax = Axes3D(fig, rect=[0, 0, .95, 1], elev=48, azim=134)\n",
      "\n",
      "pl.cla()\n",
      "pca = decomposition.PCA(n_components=3)\n",
      "pca.fit(X)\n",
      "X = pca.transform(X)\n",
      "\n",
      "for name, label in [('Setosa', 0), ('Versicolour', 1), ('Virginica', 2)]:\n",
      "    ax.text3D(X[y == label, 0].mean(),\n",
      "              X[y == label, 1].mean() + 1.5,\n",
      "              X[y == label, 2].mean(), name,\n",
      "              horizontalalignment='center',\n",
      "              bbox=dict(alpha=.5, edgecolor='w', facecolor='w'))\n",
      "# Reorder the labels to have colors matching the cluster results\n",
      "y = np.choose(y, [1, 2, 0]).astype(np.float)\n",
      "ax.scatter(X[:, 0], X[:, 1], X[:, 2], c=y, cmap=pl.cm.spectral)\n",
      "\n",
      "x_surf = [X[:, 0].min(), X[:, 0].max(),\n",
      "          X[:, 0].min(), X[:, 0].max()]\n",
      "y_surf = [X[:, 0].max(), X[:, 0].max(),\n",
      "          X[:, 0].min(), X[:, 0].min()]\n",
      "x_surf = np.array(x_surf)\n",
      "y_surf = np.array(y_surf)\n",
      "v0 = pca.transform(pca.components_[0])\n",
      "v0 /= v0[-1]\n",
      "v1 = pca.transform(pca.components_[1])\n",
      "v1 /= v1[-1]\n",
      "\n",
      "ax.w_xaxis.set_ticklabels([])\n",
      "ax.w_yaxis.set_ticklabels([])\n",
      "ax.w_zaxis.set_ticklabels([])\n",
      "\n",
      "pl.show()"
     ],
     "language": "python",
     "metadata": {},
     "outputs": [
      {
       "output_type": "stream",
       "stream": "stdout",
       "text": [
        "Automatically created module for IPython interactive environment\n"
       ]
      }
     ],
     "prompt_number": 1
    },
    {
     "cell_type": "code",
     "collapsed": false,
     "input": [],
     "language": "python",
     "metadata": {},
     "outputs": [],
     "prompt_number": 1
    }
   ],
   "metadata": {}
  }
 ]
}