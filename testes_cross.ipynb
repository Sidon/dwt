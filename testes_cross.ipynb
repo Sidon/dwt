{
 "metadata": {
  "name": ""
 },
 "nbformat": 3,
 "nbformat_minor": 0,
 "worksheets": [
  {
   "cells": [
    {
     "cell_type": "code",
     "collapsed": false,
     "input": [
      "##\n",
      "# Teste Anova (Python/scikit - http://scikit-learn.org/stable/)\n",
      "# Vers\u00e3o 0.3 - Cross-validation\n",
      "# Sidon :: 2014-05-31\n",
      "##"
     ],
     "language": "python",
     "metadata": {},
     "outputs": [],
     "prompt_number": 385
    },
    {
     "cell_type": "code",
     "collapsed": false,
     "input": [
      "# -*- coding: utf-8 -*-\n",
      "__author__ = 'Sidon'\n",
      "from sklearn.feature_selection import SelectKBest, f_classif\n",
      "from sklearn import cross_validation\n",
      "from sklearn import svm\n",
      "import numpy as np\n",
      "from sklearn.decomposition import PCA\n",
      "\n",
      "# Pretty print\n",
      "np.set_printoptions(suppress=True, precision=7)\n",
      "np.seterr(divide='ignore', invalid='ignore')"
     ],
     "language": "python",
     "metadata": {},
     "outputs": [
      {
       "metadata": {},
       "output_type": "pyout",
       "prompt_number": 386,
       "text": [
        "{'divide': 'ignore', 'invalid': 'ignore', 'over': 'warn', 'under': 'ignore'}"
       ]
      }
     ],
     "prompt_number": 386
    },
    {
     "cell_type": "code",
     "collapsed": false,
     "input": [
      "X = np.array(([5.5, 2.2, 5.5, 4, 5.5],[6.1, 2.3, 6.1, 4, 6.1], [5.9, 2.2, 5.9, 4, 5.9],\n",
      "              [5.3, 2.2, 5.3, 4, 5.3],[6, 2.3, 6, 4,\t6], [5.5, 2.1, 5.5, 4, 5.5],\n",
      "              [2.2, 2.2, 2.2, 4, 2.2], [2.3, 2.3, 2.3, 4, 2.3],[4.2, 2.1, 4.2, 4, 4.2],\n",
      "              [2.2, 2.2, 2.2, 4, 2.2],[2, 2.3, 2, 4, 2],  [2.3, 2.3, 2.3, 4, 2.3]))\n",
      "\n",
      "y = np.array([0,0,0,0,0,0,1,1,1,1,1,1])"
     ],
     "language": "python",
     "metadata": {},
     "outputs": [],
     "prompt_number": 387
    },
    {
     "cell_type": "code",
     "collapsed": false,
     "input": [
      "def reduct_features(X, y, fselection='skbest'):\n",
      "    \n",
      "    if fselection=='skbest':\n",
      "        selector = SelectKBest(f_classif, k='all')\n",
      "        selector.fit(X,y)\n",
      "        indexes = np.where(selector.pvalues_<0.05)[0]\n",
      "        print 'Indices skb:\\n ',indexes\n",
      "        \n",
      "                \n",
      "    if fselection=='pca':\n",
      "        selector = PCA(n_components=0.095)\n",
      "        selector.fit(X,y)\n",
      "        print selector.components_\n",
      "        indexes = np.where(selector.components_[0]<0)[0]\n",
      "        print 'Indices pca:\\n ',indexes\n",
      "\n",
      "    #print 'selector.components_:\\n',selector.components_\n",
      "    #print 'selector.explained_variance_ratio_:\\n',selector.explained_variance_ratio_\n",
      "    \n",
      "    return indexes        \n",
      "        "
     ],
     "language": "python",
     "metadata": {},
     "outputs": [],
     "prompt_number": 388
    },
    {
     "cell_type": "code",
     "collapsed": false,
     "input": [
      "def applycv(X, y, selector='skbest'):\n",
      "    \n",
      "    index = reduct_features(X, y, selector)\n",
      "    \n",
      "    x_reduced = np.array(X[:, index])\n",
      "\n",
      "    # Classificador (model) e Kfold (cv)\n",
      "    clf = svm.SVC(C=1, kernel='linear')\n",
      "    kfold = cross_validation.KFold(len(x_reduced), n_folds=3)\n",
      "\n",
      "    # Cross\n",
      "    scores = cross_validation.cross_val_score(clf, x_reduced, y, cv=kfold, n_jobs=-1)\n",
      "\n",
      "    # Fit \n",
      "    clf.fit(x_reduced, y)\n",
      "    print ' \\nResultado da sele\u00e7\u00e3o (',selector,'):\\n', x_reduced \n",
      "    \n",
      "    # Resultados\n",
      "    print 'Seletor:', selector\n",
      "    print 'Resultados da valida\u00e7\u00e3o cruzada:'\n",
      "    print scores, '\\nAccuracia: ', scores.mean()   \n",
      "    \n",
      "    return index, clf\n"
     ],
     "language": "python",
     "metadata": {},
     "outputs": [],
     "prompt_number": 389
    },
    {
     "cell_type": "code",
     "collapsed": false,
     "input": [
      "index, clf = applycv(X,y,'skbest')\n",
      "\n",
      "# Tentativa de predi\u00e7\u00e3o:\n",
      "print 'X:\\n',X\n",
      "xnew = X+0.006\n",
      "xnew_reduced = np.array(X[:, index])\n",
      "print '\\nx_reduced:\\n', xnew_reduced\n",
      "print '\\nTentativa de predi\u00e7\u00e3o:\\n',clf.predict( xnew_reduced )\n",
      "\n",
      "applycv(X,y,'pca')\n",
      "\n"
     ],
     "language": "python",
     "metadata": {},
     "outputs": [
      {
       "output_type": "stream",
       "stream": "stdout",
       "text": [
        "Indices skb:\n",
        "  [0 2 4]\n"
       ]
      },
      {
       "output_type": "stream",
       "stream": "stdout",
       "text": [
        " \n",
        "Resultado da sele\u00e7\u00e3o ( skbest ):\n",
        "[[ 5.5  5.5  5.5]\n",
        " [ 6.1  6.1  6.1]\n",
        " [ 5.9  5.9  5.9]\n",
        " [ 5.3  5.3  5.3]\n",
        " [ 6.   6.   6. ]\n",
        " [ 5.5  5.5  5.5]\n",
        " [ 2.2  2.2  2.2]\n",
        " [ 2.3  2.3  2.3]\n",
        " [ 4.2  4.2  4.2]\n",
        " [ 2.2  2.2  2.2]\n",
        " [ 2.   2.   2. ]\n",
        " [ 2.3  2.3  2.3]]\n",
        "Seletor: skbest\n",
        "Resultados da valida\u00e7\u00e3o cruzada:\n",
        "[ 1.    1.    0.75] \n",
        "Accuracia:  0.916666666667\n",
        "X:\n",
        "[[ 5.5  2.2  5.5  4.   5.5]\n",
        " [ 6.1  2.3  6.1  4.   6.1]\n",
        " [ 5.9  2.2  5.9  4.   5.9]\n",
        " [ 5.3  2.2  5.3  4.   5.3]\n",
        " [ 6.   2.3  6.   4.   6. ]\n",
        " [ 5.5  2.1  5.5  4.   5.5]\n",
        " [ 2.2  2.2  2.2  4.   2.2]\n",
        " [ 2.3  2.3  2.3  4.   2.3]\n",
        " [ 4.2  2.1  4.2  4.   4.2]\n",
        " [ 2.2  2.2  2.2  4.   2.2]\n",
        " [ 2.   2.3  2.   4.   2. ]\n",
        " [ 2.3  2.3  2.3  4.   2.3]]\n",
        "\n",
        "x_reduced:\n",
        "[[ 5.5  5.5  5.5]\n",
        " [ 6.1  6.1  6.1]\n",
        " [ 5.9  5.9  5.9]\n",
        " [ 5.3  5.3  5.3]\n",
        " [ 6.   6.   6. ]\n",
        " [ 5.5  5.5  5.5]\n",
        " [ 2.2  2.2  2.2]\n",
        " [ 2.3  2.3  2.3]\n",
        " [ 4.2  4.2  4.2]\n",
        " [ 2.2  2.2  2.2]\n",
        " [ 2.   2.   2. ]\n",
        " [ 2.3  2.3  2.3]]\n",
        "\n",
        "Tentativa de predi\u00e7\u00e3o:\n",
        "[0 0 0 0 0 0 1 1 1 1 1 1]\n",
        "[[-0.577341   0.0056804 -0.577341   0.        -0.577341 ]]\n",
        "Indices pca:\n",
        "  [0 2 4]\n"
       ]
      },
      {
       "output_type": "stream",
       "stream": "stdout",
       "text": [
        " \n",
        "Resultado da sele\u00e7\u00e3o ( pca ):\n",
        "[[ 5.5  5.5  5.5]\n",
        " [ 6.1  6.1  6.1]\n",
        " [ 5.9  5.9  5.9]\n",
        " [ 5.3  5.3  5.3]\n",
        " [ 6.   6.   6. ]\n",
        " [ 5.5  5.5  5.5]\n",
        " [ 2.2  2.2  2.2]\n",
        " [ 2.3  2.3  2.3]\n",
        " [ 4.2  4.2  4.2]\n",
        " [ 2.2  2.2  2.2]\n",
        " [ 2.   2.   2. ]\n",
        " [ 2.3  2.3  2.3]]\n",
        "Seletor: pca\n",
        "Resultados da valida\u00e7\u00e3o cruzada:\n",
        "[ 1.    1.    0.75] \n",
        "Accuracia:  0.916666666667\n"
       ]
      },
      {
       "metadata": {},
       "output_type": "pyout",
       "prompt_number": 390,
       "text": [
        "(array([0, 2, 4]),\n",
        " SVC(C=1, cache_size=200, class_weight=None, coef0=0.0, degree=3, gamma=0.0,\n",
        "  kernel='linear', max_iter=-1, probability=False, random_state=None,\n",
        "  shrinking=True, tol=0.001, verbose=False))"
       ]
      }
     ],
     "prompt_number": 390
    }
   ],
   "metadata": {}
  }
 ]
}