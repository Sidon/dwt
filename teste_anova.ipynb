{
 "worksheets": [
  {
   "cells": [
    {
     "cell_type": "code",
     "execution_count": null,
     "metadata": {},
     "outputs": [],
     "input": [
      "##\n",
      "# Teste Anova (Python/scikit - http://scikit-learn.org/stable/)\n",
      "# Versão 0.3 - Cross-validation\n",
      "# Sidon :: 2014-05-31\n",
      "##"
     ],
     "language": "python",
     "prompt_number": 47
    },
    {
     "cell_type": "code",
     "execution_count": null,
     "metadata": {},
     "outputs": [],
     "input": [
      "# -*- coding: utf-8 -*-\n",
      "__author__ = 'Sidon'\n",
      "from sklearn.feature_selection import SelectKBest, f_classif\n",
      "from sklearn import cross_validation\n",
      "from sklearn import svm\n",
      "import numpy as np"
     ],
     "language": "python",
     "prompt_number": 48
    },
    {
     "cell_type": "code",
     "execution_count": null,
     "metadata": {},
     "outputs": [
      {
       "stream": "stdout",
       "output_type": "stream",
       "text": [
        "Resultados:\n",
        "[ 1.    1.    0.75] \n",
        "0.916666666667\n"
       ]
      }
     ],
     "input": [
      "X = np.array(([5.5, 2.2, 5.5, 4, 5.5],[6.1, 2.3, 6.1, 4, 6.1], [5.9, 2.2, 5.9, 4, 5.9],\n",
      "              [5.3, 2.2, 5.3, 4, 5.3],[6, 2.3, 6, 4,6], [5.5, 2.1, 5.5, 4, 5.5],\n",
      "              [2.2, 2.2, 2.2, 4, 2.2], [2.3, 2.3, 2.3, 4, 2.3],[4.2, 2.1, 4.2, 4, 4.2],\n",
      "              [2.2, 2.2, 2.2, 4, 2.2],[2, 2.3, 2, 4, 2],  [2.3, 2.3, 2.3, 4, 2.3]))\n",
      "\n",
      "y = np.array([0,0,0,0,0,0,1,1,1,1,1,1])\n",
      "\n",
      "# Pretty print\n",
      "np.set_printoptions(suppress=True, precision=7)\n",
      "np.seterr(divide='ignore', invalid='ignore')\n",
      "\n",
      "# Cria e executa o filtro anova\n",
      "sk = SelectKBest(f_classif, k=all)\n",
      "sk.fit(X,y)\n",
      "\n",
      "# Classificador (model) e Kfold (cv)\n",
      "clf = svm.SVC(C=1, kernel='linear')\n",
      "kfold = cross_validation.KFold(len(X), n_folds=3)\n",
      "\n",
      "# Cross\n",
      "scores = cross_validation.cross_val_score(clf, X, y, cv=kfold, n_jobs=-1)\n",
      "\n",
      "# Resultados\n",
      "print 'Resultados:\\n', scores, '\\n', scores.mean()"
     ],
     "language": "python",
     "prompt_number": 49
    }
   ]
  }
 ],
 "cells": [],
 "metadata": {
  "name": "",
  "signature": "sha256:7650499271bfa67904b0e6587285ab8ff478f37c84a885c5d69480b25360644d"
 },
 "nbformat": 4,
 "nbformat_minor": 0
}