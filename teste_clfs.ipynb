{
 "metadata": {
  "name": ""
 },
 "nbformat": 3,
 "nbformat_minor": 0,
 "worksheets": [
  {
   "cells": [
    {
     "cell_type": "code",
     "collapsed": false,
     "input": [
      "from __future__ import print_function\n",
      "# -*- coding: utf-8 -*-\n",
      "__author__ = 'Sidon'\n",
      "from sklearn import cross_validation\n",
      "from sklearn.cross_validation import train_test_split\n",
      "from sklearn.grid_search import GridSearchCV\n",
      "from sklearn.metrics import classification_report\n",
      "from sklearn.metrics import confusion_matrix\n",
      "from sklearn.svm import SVC\n",
      "from sklearn import svm\n",
      "from sklearn.feature_selection import SelectKBest, f_classif\n",
      "from sklearn.pipeline import Pipeline\n",
      "from sklearn.cross_validation import cross_val_score\n",
      "from clfs.applyclf import *\n",
      "import sys\n",
      "import utils\n",
      "from qtutil import *\n",
      "import numpy as np\n",
      "from sklearn import cross_validation\n",
      "from sklearn.decomposition import PCA\n",
      "import pylab as pl\n",
      "from sklearn.linear_model import SGDClassifier\n",
      "from sklearn.neighbors import KNeighborsClassifier\n",
      "\n",
      "# from experimentos.icluiex import *\n"
     ],
     "language": "python",
     "metadata": {},
     "outputs": [],
     "prompt_number": 50
    },
    {
     "cell_type": "code",
     "collapsed": false,
     "input": [
      "def clfs(exp):\n",
      "\n",
      "    print ('\\nObtendo os dados de treino')\n",
      "    features, y = getdata(exp, agrupado=True)\n",
      "\n",
      "    print ('\\nReduzindo os atributos')\n",
      "\n",
      "    pca = PCA(n_components=0.949)\n",
      "    pca.fit(features, y)\n",
      "    Xpca = pca.transform(features)\n",
      "\n",
      "    sk = SelectKBest(f_classif, k=16906)\n",
      "    sk.fit(features,y)\n",
      "\n",
      "    '''\n",
      "    print ('sk.scores_.shape: ', sk.scores_.shape)\n",
      "    print ('sk.pvalues_.shape: ',sk.pvalues_.shape)\n",
      "    print ('Conteudo scores_:\\n',sk.scores_)\n",
      "    print ('\\nScore m\u00e1ximo: ',sk.scores_.max())\n",
      "    print ('Score m\u00ednimo: ',sk.scores_.min())\n",
      "    print ('\\nConteudo pvalues:\\n',sk.pvalues_)\n",
      "    print ('Pvalue m\u00e1ximo: ',sk.pvalues_.max())\n",
      "    print ('Pvalue m\u00ednimo: ',sk.pvalues_.min())\n",
      "    pvs_i = np.where(sk.pvalues_>= 0.5)\n",
      "    pvs_final = sk.pvalues_[pvs_i]\n",
      "    '''\n",
      "    \n",
      "    Xskb = sk.transform(features)\n",
      "    results = {}\n",
      "\n",
      "    results['svmlinear0'] = calcscores('svmlinear', Xpca, y, n_folds=10)\n",
      "    results['svmrbf0'] = calcscores('svmrbf', Xpca, y, n_folds=10)\n",
      "    #results['svmpoly0'] = calcscores('svmpoly', Xpca, y, n_folds=10)\n",
      "    results['sgd0'] = calcscores('sgd', Xpca, y, n_folds=10)\n",
      "    results['kneigh0'] = calcscores('kneigh', Xpca, y, n_folds=10)\n",
      "\n",
      "    results['svmlinear1'] = calcscores('svmlinear', Xskb, y, n_folds=10)\n",
      "    results['svmrbf1'] = calcscores('svmrbf', Xskb, y, n_folds=10)\n",
      "    #results['svmpoly1'] = calcscores('svmpoly', Xskb, y, n_folds=10)\n",
      "    results['sgd1'] = calcscores('sgd', Xskb, y, n_folds=10)\n",
      "    results['kneigh1'] = calcscores('kneigh', Xskb, y, n_folds=10)\n",
      "    \n",
      "    sp = '      '\n",
      "    print ('Resultados: ')\n",
      "    print ('---------------------------------------')\n",
      "    print ('          Com seletor PCA ')\n",
      "    print ('---------------------------------------')\n",
      "    print ('Classificador   Media        Desvio')\n",
      "    print ('Svm Linear     ', \"%0.4f\" % results['svmlinear0'][0]+sp, \"%0.4f\" % results['svmlinear0'][1])      \n",
      "    print ('Svm rbf        ', \"%0.4f\" % results['svmrbf0'][0]+sp, \"%0.4f\" % results['svmrbf0'][1])      \n",
      "    #print ('Svm polinomial ', \"%0.4f\" % results['svmpoly0'][0]+sp, \"%0.4f\" % results['svmpoly0'][1])      \n",
      "    print ('SGD            ', \"%0.4f\" % results['sgd0'][0]+sp, \"%0.4f\" % results['sgd0'][1])      \n",
      "    print ('KNeighbors     ', \"%0.4f\" % results['kneigh0'][0]+sp, \"%0.4f\" % results['kneigh1'][1])      \n",
      "\n",
      "    print ('---------------------------------------')\n",
      "    print ('    Com seletor SelectKbest')            \n",
      "    print ('---------------------------------------')\n",
      "    print ('Classificador   Media        Desvio')\n",
      "    print ('Svm Linear     ', \"%0.4f\" % results['svmlinear1'][0]+sp, \"%0.4f\" % results['svmlinear1'][1])      \n",
      "    print ('Svm rbf        ', \"%0.4f\" % results['svmrbf1'][0]+sp, \"%0.4f\" % results['svmrbf1'][1])      \n",
      "    #print ('Svm polinomial ', \"%0.4f\" % results['svmpoly1'][0]+sp, \"%0.4f\" % results['svmpoly1'][1])      \n",
      "    print ('SGD            ', \"%0.4f\" % results['sgd1'][0]+sp, \"%0.4f\" % results['sgd1'][1])      \n",
      "    print ('KNeighbors     ', \"%0.4f\" % results['kneigh1'][0]+sp, \"%0.4f\" % results['kneigh1'][1])      \n",
      "     \n",
      "    return\n"
     ],
     "language": "python",
     "metadata": {},
     "outputs": [],
     "prompt_number": 51
    },
    {
     "cell_type": "code",
     "collapsed": false,
     "input": [
      "def calcscores(sclf, X, y, n_folds=10):\n",
      "    \n",
      "    print('Criando o classificador: ', sclf)\n",
      "    if sclf=='svmlinear':\n",
      "        clf = svm.SVC(C=1, kernel='linear')\n",
      "    elif sclf=='svmrbf':\n",
      "        clf = svm.SVC(C=1, kernel='rbf')\n",
      "    elif sclf=='svmpoly':\n",
      "        clf = svm.SVC(C=1, kernel='poly')\n",
      "    elif sclf=='sgd':\n",
      "        clf = SGDClassifier(loss=\"hinge\", penalty=\"l2\")\n",
      "    elif sclf=='kneigh':\n",
      "        clf = KNeighborsClassifier(n_neighbors=4)\n",
      "        \n",
      "            \n",
      "    print('\\nCriando kfold')    \n",
      "    kfold = cross_validation.KFold(len(X), n_folds=n_folds)\n",
      "\n",
      "    print('\\nCalculando scores')    \n",
      "    scores = cross_validation.cross_val_score(clf, X, y, cv=kfold, n_jobs=-1)\n",
      "\n",
      "    mean = scores.mean()\n",
      "    std = scores.std()\n",
      "\n",
      "    return (mean, std)\n",
      "\n",
      "    "
     ],
     "language": "python",
     "metadata": {},
     "outputs": [],
     "prompt_number": 52
    },
    {
     "cell_type": "code",
     "collapsed": false,
     "input": [
      "exp = {}\n",
      "exp['store'] = '/home/sidon/etc/output/lymphoma/hdf/swt2_haar.h5'\n",
      "\n",
      "exp['key'] = '/SWT2_Haar_1_113'\n",
      "exp['clf'] = 'svm'\n",
      "exp['kernel'] = 'linear'\n",
      "exp['seletor'] = 'anova'\n",
      "exp['detalhe'] = 'Diagonais'\n",
      "exp['descricao'] = 'Teste'\n",
      "exp['folds'] = 10\n",
      "exp['funcao'] = 'pipeline'\n",
      "exp['experimento_id'] = '3_DWDEC2_Haar_4-100-Aproximacao-svm-pipeline-anova-5_folds'\n",
      "exp['target0'] = 'CLL'\n",
      "exp['target1'] = 'FL'\n",
      "exp['target2'] = 'MCL'\n",
      "\n",
      "clfs(exp)\n",
      "\n"
     ],
     "language": "python",
     "metadata": {},
     "outputs": [
      {
       "output_type": "stream",
       "stream": "stdout",
       "text": [
        "\n",
        "Obtendo os dados de treino\n",
        "\n",
        "Carregando atributos CLL"
       ]
      },
      {
       "output_type": "stream",
       "stream": "stderr",
       "text": [
        "/usr/lib/python2.7/dist-packages/pandas/io/pytables.py:528: DeprecationWarning: openFile() is pending deprecation, use open_file() instead. You may use the pt2to3 tool to update your source code.\n",
        "  self._handle = tables.openFile(self._path, self._mode, **kwargs)\n",
        "/usr/lib/python2.7/dist-packages/pandas/io/pytables.py:1044: DeprecationWarning: getNode() is pending deprecation, use get_node() instead. You may use the pt2to3 tool to update your source code.\n",
        "  return self._handle.getNode(self.root, key)\n"
       ]
      },
      {
       "output_type": "stream",
       "stream": "stdout",
       "text": [
        "\n",
        "Carregando atributos FL"
       ]
      },
      {
       "output_type": "stream",
       "stream": "stdout",
       "text": [
        "\n",
        "Carregando atributos MCL"
       ]
      },
      {
       "output_type": "stream",
       "stream": "stderr",
       "text": [
        "/usr/lib/python2.7/dist-packages/pandas/io/pytables.py:1044: DeprecationWarning: getNode() is pending deprecation, use get_node() instead. You may use the pt2to3 tool to update your source code.\n",
        "  return self._handle.getNode(self.root, key)\n",
        "/usr/lib/python2.7/dist-packages/pandas/io/pytables.py:1044: DeprecationWarning: getNode() is pending deprecation, use get_node() instead. You may use the pt2to3 tool to update your source code.\n",
        "  return self._handle.getNode(self.root, key)\n"
       ]
      },
      {
       "output_type": "stream",
       "stream": "stdout",
       "text": [
        "\n",
        "\n",
        "Concatenando as imagens"
       ]
      },
      {
       "ename": "MemoryError",
       "evalue": "",
       "output_type": "pyerr",
       "traceback": [
        "\u001b[0;31m---------------------------------------------------------------------------\u001b[0m\n\u001b[0;31mMemoryError\u001b[0m                               Traceback (most recent call last)",
        "\u001b[0;32m<ipython-input-53-2a77ce16bd30>\u001b[0m in \u001b[0;36m<module>\u001b[0;34m()\u001b[0m\n\u001b[1;32m     15\u001b[0m \u001b[0mexp\u001b[0m\u001b[0;34m[\u001b[0m\u001b[0;34m'target2'\u001b[0m\u001b[0;34m]\u001b[0m \u001b[0;34m=\u001b[0m \u001b[0;34m'MCL'\u001b[0m\u001b[0;34m\u001b[0m\u001b[0m\n\u001b[1;32m     16\u001b[0m \u001b[0;34m\u001b[0m\u001b[0m\n\u001b[0;32m---> 17\u001b[0;31m \u001b[0mclfs\u001b[0m\u001b[0;34m(\u001b[0m\u001b[0mexp\u001b[0m\u001b[0;34m)\u001b[0m\u001b[0;34m\u001b[0m\u001b[0m\n\u001b[0m\u001b[1;32m     18\u001b[0m \u001b[0;34m\u001b[0m\u001b[0m\n",
        "\u001b[0;32m<ipython-input-51-aa33a85d8fbf>\u001b[0m in \u001b[0;36mclfs\u001b[0;34m(exp)\u001b[0m\n\u001b[1;32m      2\u001b[0m \u001b[0;34m\u001b[0m\u001b[0m\n\u001b[1;32m      3\u001b[0m     \u001b[0;32mprint\u001b[0m \u001b[0;34m(\u001b[0m\u001b[0;34m'\\nObtendo os dados de treino'\u001b[0m\u001b[0;34m)\u001b[0m\u001b[0;34m\u001b[0m\u001b[0m\n\u001b[0;32m----> 4\u001b[0;31m     \u001b[0mfeatures\u001b[0m\u001b[0;34m,\u001b[0m \u001b[0my\u001b[0m \u001b[0;34m=\u001b[0m \u001b[0mgetdata\u001b[0m\u001b[0;34m(\u001b[0m\u001b[0mexp\u001b[0m\u001b[0;34m,\u001b[0m \u001b[0magrupado\u001b[0m\u001b[0;34m=\u001b[0m\u001b[0mTrue\u001b[0m\u001b[0;34m)\u001b[0m\u001b[0;34m\u001b[0m\u001b[0m\n\u001b[0m\u001b[1;32m      5\u001b[0m \u001b[0;34m\u001b[0m\u001b[0m\n\u001b[1;32m      6\u001b[0m     \u001b[0;32mprint\u001b[0m \u001b[0;34m(\u001b[0m\u001b[0;34m'\\nReduzindo os atributos'\u001b[0m\u001b[0;34m)\u001b[0m\u001b[0;34m\u001b[0m\u001b[0m\n",
        "\u001b[0;32m/media/Dados-NTFS_/Copy/devel/python/lymphoma1/trunk/clfs/utilclf.pyc\u001b[0m in \u001b[0;36mgetdata\u001b[0;34m(exp, agrupado)\u001b[0m\n\u001b[1;32m     37\u001b[0m     \u001b[0;32mif\u001b[0m \u001b[0magrupado\u001b[0m\u001b[0;34m:\u001b[0m\u001b[0;34m\u001b[0m\u001b[0m\n\u001b[1;32m     38\u001b[0m         \u001b[0;32mprint\u001b[0m \u001b[0;34m(\u001b[0m\u001b[0;34m'\\nConcatenando as imagens'\u001b[0m\u001b[0;34m)\u001b[0m\u001b[0;34m\u001b[0m\u001b[0m\n\u001b[0;32m---> 39\u001b[0;31m         \u001b[0mfeatures\u001b[0m \u001b[0;34m=\u001b[0m \u001b[0mnp\u001b[0m\u001b[0;34m.\u001b[0m\u001b[0mconcatenate\u001b[0m\u001b[0;34m(\u001b[0m\u001b[0;34m(\u001b[0m\u001b[0mfeatures0\u001b[0m\u001b[0;34m,\u001b[0m \u001b[0mfeatures1\u001b[0m\u001b[0;34m,\u001b[0m \u001b[0mfeatures2\u001b[0m\u001b[0;34m)\u001b[0m\u001b[0;34m)\u001b[0m\u001b[0;34m\u001b[0m\u001b[0m\n\u001b[0m\u001b[1;32m     40\u001b[0m         \u001b[0;32mprint\u001b[0m \u001b[0;34m(\u001b[0m\u001b[0;34m'Construindo o set de samples (targets ou classes):\\n0=cll, 1=fl, 2=mcl\\n'\u001b[0m\u001b[0;34m)\u001b[0m\u001b[0;34m\u001b[0m\u001b[0m\n\u001b[1;32m     41\u001b[0m         \u001b[0mtargets\u001b[0m \u001b[0;34m=\u001b[0m \u001b[0mset_targets\u001b[0m\u001b[0;34m(\u001b[0m\u001b[0mfeatures\u001b[0m\u001b[0;34m.\u001b[0m\u001b[0mshape\u001b[0m\u001b[0;34m[\u001b[0m\u001b[0;36m0\u001b[0m\u001b[0;34m]\u001b[0m\u001b[0;34m)\u001b[0m\u001b[0;34m\u001b[0m\u001b[0m\n",
        "\u001b[0;31mMemoryError\u001b[0m: "
       ]
      },
      {
       "output_type": "stream",
       "stream": "stdout",
       "text": [
        "\n"
       ]
      }
     ],
     "prompt_number": 53
    },
    {
     "cell_type": "code",
     "collapsed": false,
     "input": [],
     "language": "python",
     "metadata": {},
     "outputs": []
    },
    {
     "cell_type": "code",
     "collapsed": false,
     "input": [],
     "language": "python",
     "metadata": {},
     "outputs": []
    }
   ],
   "metadata": {}
  }
 ]
}